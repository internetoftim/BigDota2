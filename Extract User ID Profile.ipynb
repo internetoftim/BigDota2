{
 "cells": [
  {
   "cell_type": "code",
   "execution_count": 32,
   "metadata": {},
   "outputs": [],
   "source": [
    "import bs4\n",
    "from urllib.request import urlopen as uReq\n",
    "from bs4 import BeautifulSoup as soup\n",
    "import mysql\n",
    "import mysql.connector\n",
    "import json\n",
    "import csv"
   ]
  },
  {
   "cell_type": "markdown",
   "metadata": {},
   "source": [
    "Extract Single ID"
   ]
  },
  {
   "cell_type": "code",
   "execution_count": 20,
   "metadata": {},
   "outputs": [
    {
     "name": "stdout",
     "output_type": "stream",
     "text": [
      "https://api.opendota.com/api/players/139108434\n"
     ]
    },
    {
     "data": {
      "text/plain": [
       "{'tracked_until': None,\n",
       " 'solo_competitive_rank': None,\n",
       " 'competitive_rank': None,\n",
       " 'profile': {'account_id': 139108434,\n",
       "  'personaname': '唐炒栗子',\n",
       "  'name': None,\n",
       "  'cheese': 0,\n",
       "  'steamid': '76561198099374162',\n",
       "  'avatar': 'https://steamcdn-a.akamaihd.net/steamcommunity/public/images/avatars/ce/ce7194ae94a857f4039ded9227f287a04517ea61.jpg',\n",
       "  'avatarmedium': 'https://steamcdn-a.akamaihd.net/steamcommunity/public/images/avatars/ce/ce7194ae94a857f4039ded9227f287a04517ea61_medium.jpg',\n",
       "  'avatarfull': 'https://steamcdn-a.akamaihd.net/steamcommunity/public/images/avatars/ce/ce7194ae94a857f4039ded9227f287a04517ea61_full.jpg',\n",
       "  'profileurl': 'https://steamcommunity.com/profiles/76561198099374162/',\n",
       "  'last_login': None,\n",
       "  'loccountrycode': None,\n",
       "  'is_contributor': False},\n",
       " 'rank_tier': None,\n",
       " 'leaderboard_rank': None,\n",
       " 'mmr_estimate': {'estimate': 3245}}"
      ]
     },
     "metadata": {},
     "output_type": "display_data"
    }
   ],
   "source": [
    "my_url = 'https://api.opendota.com/api/players/139108434'\n",
    "print(my_url)\n",
    "uClient = uReq(my_url)\n",
    "page_html = uClient.read()\n",
    "soup_out= soup(page_html, \"html.parser\")\n",
    "#get response and turn it into json\n",
    "test_json = json.loads(page_html)\n",
    "display(test_json)"
   ]
  },
  {
   "cell_type": "markdown",
   "metadata": {},
   "source": [
    "This is how you access the elements in the json file. variable_name['attribute'])"
   ]
  },
  {
   "cell_type": "code",
   "execution_count": 30,
   "metadata": {},
   "outputs": [
    {
     "name": "stdout",
     "output_type": "stream",
     "text": [
      "id is:139108434\n"
     ]
    }
   ],
   "source": [
    "print(\"id is:\" + str(test_json['profile']['account_id']))"
   ]
  },
  {
   "cell_type": "markdown",
   "metadata": {},
   "source": [
    "### Let's write it in a json output file"
   ]
  },
  {
   "cell_type": "code",
   "execution_count": 34,
   "metadata": {},
   "outputs": [],
   "source": [
    "with open('output_json.json', mode='w') as output_file:\n",
    "    csv_writer = csv.writer(output_file, delimiter=',', quoting=csv.QUOTE_MINIMAL)\n",
    "    csv_writer.writerow([json.dumps(test_json)])"
   ]
  },
  {
   "cell_type": "markdown",
   "metadata": {},
   "source": [
    "### Let's insert into the database"
   ]
  },
  {
   "cell_type": "code",
   "execution_count": 36,
   "metadata": {},
   "outputs": [],
   "source": [
    "test_dump = json.dumps(test_json)\n",
    "cnx = mysql.connector.connect(user='db_user', database='dota_staging' , password='bigdota410')\n",
    "cursor = cnx.cursor()\n",
    "insert = \"INSERT INTO json_ingest (input_json) VALUES (%s)\"\n",
    "cursor.execute(insert, (test_dump,))\n",
    "cnx.commit()\n"
   ]
  },
  {
   "cell_type": "code",
   "execution_count": null,
   "metadata": {},
   "outputs": [],
   "source": [
    "# Verify content of DB\n",
    "# select = \"SELECT * FROM json_ingest;\"\n",
    "# cursor.execute(insert)"
   ]
  },
  {
   "cell_type": "markdown",
   "metadata": {},
   "source": [
    "## This is the user ID list\n",
    "Let us extract multiple IDs from list"
   ]
  },
  {
   "cell_type": "code",
   "execution_count": null,
   "metadata": {},
   "outputs": [],
   "source": [
    "id_list = ['167997607','137944940','139108434']"
   ]
  },
  {
   "cell_type": "markdown",
   "metadata": {},
   "source": [
    "### Extract from List and Dump it in the Database"
   ]
  },
  {
   "cell_type": "code",
   "execution_count": 37,
   "metadata": {},
   "outputs": [
    {
     "name": "stdout",
     "output_type": "stream",
     "text": [
      "https://api.opendota.com/api/players/167997607\n",
      "id is:167997607\n",
      "https://api.opendota.com/api/players/137944940\n",
      "id is:137944940\n",
      "https://api.opendota.com/api/players/139108434\n",
      "id is:139108434\n"
     ]
    }
   ],
   "source": [
    "for acct_id in id_list:\n",
    "    my_url = 'https://api.opendota.com/api/players/' + acct_id \n",
    "    print(my_url)\n",
    "    uClient = uReq(my_url)\n",
    "    page_html = uClient.read()\n",
    "    soup_out= soup(page_html, \"html.parser\")\n",
    "    #get response and turn it into json\n",
    "    test_json = json.loads(page_html)\n",
    "    print(\"id is:\" + str(test_json['profile']['account_id']))\n",
    "    \n",
    "    #turn json to text dump\n",
    "    test_dump = json.dumps(test_json)    \n",
    "\n",
    "    insert = \"INSERT INTO json_ingest (input_json) VALUES (%s)\"\n",
    "    cursor.execute(insert, (test_dump,))\n",
    "    cnx.commit()"
   ]
  },
  {
   "cell_type": "markdown",
   "metadata": {},
   "source": [
    "### Extract from List and Dump it as a Json File"
   ]
  },
  {
   "cell_type": "code",
   "execution_count": 38,
   "metadata": {},
   "outputs": [
    {
     "name": "stdout",
     "output_type": "stream",
     "text": [
      "https://api.opendota.com/api/players/167997607\n",
      "id is:167997607\n",
      "https://api.opendota.com/api/players/137944940\n",
      "id is:137944940\n",
      "https://api.opendota.com/api/players/139108434\n",
      "id is:139108434\n"
     ]
    }
   ],
   "source": [
    "for acct_id in id_list:\n",
    "    my_url = 'https://api.opendota.com/api/players/' + acct_id \n",
    "    print(my_url)\n",
    "    uClient = uReq(my_url)\n",
    "    page_html = uClient.read()\n",
    "    soup_out= soup(page_html, \"html.parser\")\n",
    "    #get response and turn it into json\n",
    "    test_json = json.loads(page_html)\n",
    "    print(\"id is:\" + str(test_json['profile']['account_id']))\n",
    "    \n",
    "    #turn json to text dump\n",
    "    test_dump = json.dumps(test_json)    \n",
    "    \n",
    "    # The part where you do what with the data\n",
    "    with open(acct_id + '.json', mode='w') as output_file:\n",
    "        csv_writer = csv.writer(output_file, delimiter=',', quoting=csv.QUOTE_MINIMAL)\n",
    "        csv_writer.writerow([json.dumps(test_json)])"
   ]
  },
  {
   "cell_type": "markdown",
   "metadata": {},
   "source": [
    "### Open a File containing a list of ID's"
   ]
  },
  {
   "cell_type": "code",
   "execution_count": 42,
   "metadata": {},
   "outputs": [],
   "source": [
    "import pandas as pd\n"
   ]
  },
  {
   "cell_type": "code",
   "execution_count": 47,
   "metadata": {},
   "outputs": [],
   "source": [
    "id_list = pd.read_csv('id_list.csv',header=None,names=['filename'])"
   ]
  },
  {
   "cell_type": "code",
   "execution_count": 61,
   "metadata": {},
   "outputs": [],
   "source": [
    "for i in range(len(id_list)):\n",
    "    id_list.items()"
   ]
  },
  {
   "cell_type": "code",
   "execution_count": null,
   "metadata": {},
   "outputs": [],
   "source": []
  }
 ],
 "metadata": {
  "kernelspec": {
   "display_name": "Python 3",
   "language": "python",
   "name": "python3"
  },
  "language_info": {
   "codemirror_mode": {
    "name": "ipython",
    "version": 3
   },
   "file_extension": ".py",
   "mimetype": "text/x-python",
   "name": "python",
   "nbconvert_exporter": "python",
   "pygments_lexer": "ipython3",
   "version": "3.7.0"
  }
 },
 "nbformat": 4,
 "nbformat_minor": 2
}
