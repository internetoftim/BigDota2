{
 "cells": [
  {
   "cell_type": "code",
   "execution_count": 1,
   "metadata": {},
   "outputs": [],
   "source": [
    "import bs4\n",
    "from urllib.request import urlopen as uReq\n",
    "from bs4 import BeautifulSoup as soup\n",
    "import mysql\n",
    "import mysql.connector\n",
    "import json\n",
    "import csv\n",
    "import re\n",
    "import os"
   ]
  },
  {
   "cell_type": "markdown",
   "metadata": {},
   "source": [
    "Open Json File"
   ]
  },
  {
   "cell_type": "code",
   "execution_count": null,
   "metadata": {},
   "outputs": [],
   "source": [
    "cnx = mysql.connector.connect(user='db_user', database='dota_staging' , password='bigdota410')\n",
    "cursor = cnx.cursor()\n",
    "\n",
    "with open('/home/mirroraidev/BigDota2/output_Guanyu/output_match_from_119115270/2268669197.json'\\\n",
    "          ,'r') as data_file:\n",
    "    test = data_file.read()\n",
    "test = re.sub(string=test,pattern='^\\\"',repl='')\n",
    "test = re.sub(string=test,pattern='^\\\"$',repl='')\n",
    "test = re.sub(string=test,pattern='\\\"{2}',repl='\\\"')\n",
    "test = re.sub(string=test,pattern='.$',repl=\"\")\n",
    "test_2 = json.loads(test)\n",
    "test_dump = json.dumps(test_2)\n",
    "insert = \"INSERT INTO json_ingest (input_json) VALUES (%s)\"\n",
    "cursor.execute(insert, (test_dump,))\n",
    "cnx.commit()"
   ]
  },
  {
   "cell_type": "code",
   "execution_count": null,
   "metadata": {},
   "outputs": [],
   "source": [
    "def insert_json_to_db(filename,table_input='json_ingest'):\n",
    "    with open(filename,'r') as data_file:\n",
    "        test = data_file.read()\n",
    "    test = re.sub(string=test,pattern='^\\\"',repl='')\n",
    "    test = re.sub(string=test,pattern='^\\\"$',repl='')\n",
    "    test = re.sub(string=test,pattern='\\\"{2}',repl='\\\"')\n",
    "    test = re.sub(string=test,pattern='.$',repl=\"\")\n",
    "    test_2 = json.loads(test)\n",
    "    test_dump = json.dumps(test_2)\n",
    "    insert = \"INSERT INTO (%s) (input_json) VALUES (%s)\"\n",
    "    cursor.execute(insert, (test_dump,))\n",
    "    cnx.commit()"
   ]
  },
  {
   "cell_type": "code",
   "execution_count": null,
   "metadata": {},
   "outputs": [],
   "source": [
    "test_2['match_id']"
   ]
  },
  {
   "cell_type": "code",
   "execution_count": 170,
   "metadata": {},
   "outputs": [],
   "source": [
    "folder_path = '/home/mirroraidev/BigDota2/output_Guanyu/output_match_from_119115270/'"
   ]
  },
  {
   "cell_type": "code",
   "execution_count": 172,
   "metadata": {},
   "outputs": [],
   "source": [
    "files = os.listdir(folder_path)"
   ]
  },
  {
   "cell_type": "code",
   "execution_count": 179,
   "metadata": {},
   "outputs": [],
   "source": [
    "for file in files:\n",
    "    insert_json_to_db(folder_path+file,table_input='match_ingest')"
   ]
  },
  {
   "cell_type": "code",
   "execution_count": null,
   "metadata": {},
   "outputs": [],
   "source": [
    "insert = \"TRUNCATE TABLE json_ingest\"\n",
    "cursor.execute(insert)\n",
    "cnx.commit()"
   ]
  },
  {
   "cell_type": "code",
   "execution_count": null,
   "metadata": {},
   "outputs": [],
   "source": []
  }
 ],
 "metadata": {
  "kernelspec": {
   "display_name": "Python 3",
   "language": "python",
   "name": "python3"
  },
  "language_info": {
   "codemirror_mode": {
    "name": "ipython",
    "version": 3
   },
   "file_extension": ".py",
   "mimetype": "text/x-python",
   "name": "python",
   "nbconvert_exporter": "python",
   "pygments_lexer": "ipython3",
   "version": "3.7.0"
  }
 },
 "nbformat": 4,
 "nbformat_minor": 2
}
